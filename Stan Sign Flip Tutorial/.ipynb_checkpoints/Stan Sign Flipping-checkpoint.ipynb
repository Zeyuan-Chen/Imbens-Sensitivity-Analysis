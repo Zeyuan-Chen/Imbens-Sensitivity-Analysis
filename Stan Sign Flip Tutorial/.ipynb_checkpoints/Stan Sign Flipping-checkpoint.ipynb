{
 "cells": [
  {
   "cell_type": "code",
   "execution_count": 1,
   "metadata": {
    "ExecuteTime": {
     "end_time": "2022-05-26T20:49:24.941485Z",
     "start_time": "2022-05-26T20:49:21.243371Z"
    }
   },
   "outputs": [
    {
     "data": {
      "text/html": [
       "<style>.container { width:80% !important; }</style>"
      ],
      "text/plain": [
       "<IPython.core.display.HTML object>"
      ]
     },
     "metadata": {},
     "output_type": "display_data"
    }
   ],
   "source": [
    "%load_ext autoreload\n",
    "%autoreload 2\n",
    "\n",
    "%matplotlib inline\n",
    "\n",
    "\n",
    "from IPython.core.display import display, HTML\n",
    "display(HTML(\"<style>.container { width:80% !important; }</style>\"))\n",
    "\n",
    "import seaborn as sns\n",
    "\n",
    "sns.set_style('darkgrid',{'axes.spines.bottom': True,\n",
    "             'axes.spines.left': True,\n",
    "             'axes.spines.right': True,\n",
    "             'axes.spines.top': True,\n",
    "             'axes.edgecolor':'.0'})\n",
    "\n",
    "sns.set_context('talk')\n",
    "sns.set_palette('colorblind')"
   ]
  },
  {
   "cell_type": "code",
   "execution_count": 2,
   "metadata": {
    "ExecuteTime": {
     "end_time": "2022-05-26T20:49:25.940287Z",
     "start_time": "2022-05-26T20:49:24.943419Z"
    }
   },
   "outputs": [],
   "source": [
    "import pystan\n",
    "import pystan.misc as misc\n",
    "\n",
    "import warnings\n",
    "warnings.filterwarnings('ignore')\n",
    "import pandas as pd\n",
    "import numpy as np\n",
    "import matplotlib.pyplot as plt\n",
    "import seaborn as sns\n",
    "import pickle\n",
    "from collections import OrderedDict\n",
    "from scipy.optimize import minimize\n",
    "from numpy.random import multivariate_normal\n",
    "from scipy.special import erf\n",
    "from scipy.integrate import quad\n",
    "import matplotlib.pyplot as plt\n",
    "from numpy.linalg import inv\n",
    "\n",
    "from pathlib import Path\n",
    "Path.ls = lambda p: [i for i in p.iterdir()]\n",
    "\n",
    "def pickleLoad(fname):\n",
    "    with open(fname,'rb') as f:\n",
    "        return pickle.load(f)\n",
    "\n",
    "def pickleDump(fname,obj):\n",
    "    with open(fname,'wb') as f:\n",
    "        pickle.dump(obj,f,pickle.HIGHEST_PROTOCOL)\n",
    "    \n",
    "\n"
   ]
  },
  {
   "cell_type": "code",
   "execution_count": 90,
   "metadata": {
    "ExecuteTime": {
     "end_time": "2022-05-26T22:04:55.756642Z",
     "start_time": "2022-05-26T22:04:55.734143Z"
    }
   },
   "outputs": [],
   "source": [
    "import statsmodels.api as sm\n",
    "import statsmodels.stats.multicomp\n",
    "\n",
    "from statsmodels.formula.api import ols\n",
    "from statsmodels.stats.anova import anova_lm\n",
    "import matplotlib.pyplot as plt\n",
    "from scipy import stats\n",
    "import seaborn as sns\n",
    "\n",
    "import scipy.linalg as lin"
   ]
  },
  {
   "cell_type": "code",
   "execution_count": 3,
   "metadata": {
    "ExecuteTime": {
     "end_time": "2022-05-26T20:49:26.682651Z",
     "start_time": "2022-05-26T20:49:25.942635Z"
    }
   },
   "outputs": [],
   "source": [
    "import arviz\n",
    "def chainPlot(fit,var):\n",
    "    try:\n",
    "        rows = fit[var].shape[1]\n",
    "    except:\n",
    "        rows = 1\n",
    "\n",
    "    fig,ax = plt.subplots(rows,2,figsize=(12,rows),sharex='col',constrained_layout=True)\n",
    "    axes = arviz.plot_trace(fit,[var],ax=ax)\n",
    "    return axes"
   ]
  },
  {
   "cell_type": "markdown",
   "metadata": {},
   "source": [
    "# Compile "
   ]
  },
  {
   "cell_type": "code",
   "execution_count": 110,
   "metadata": {
    "ExecuteTime": {
     "end_time": "2022-05-26T23:05:46.385940Z",
     "start_time": "2022-05-26T23:05:04.077101Z"
    }
   },
   "outputs": [
    {
     "name": "stderr",
     "output_type": "stream",
     "text": [
      "INFO:pystan:COMPILING THE C++ CODE FOR MODEL anon_model_21268406ae465ae4544a6058e6ca093d NOW.\n"
     ]
    }
   ],
   "source": [
    "stan_model = pystan.StanModel(file='imbens.stan')"
   ]
  },
  {
   "cell_type": "code",
   "execution_count": 159,
   "metadata": {
    "ExecuteTime": {
     "end_time": "2022-05-27T18:13:23.612436Z",
     "start_time": "2022-05-27T18:12:40.130391Z"
    }
   },
   "outputs": [
    {
     "name": "stderr",
     "output_type": "stream",
     "text": [
      "INFO:pystan:COMPILING THE C++ CODE FOR MODEL anon_model_029fd74750db95e97be78bce9c21bb84 NOW.\n"
     ]
    }
   ],
   "source": [
    "stan_model2 = pystan.StanModel(file='imbens2.stan')"
   ]
  },
  {
   "cell_type": "markdown",
   "metadata": {},
   "source": [
    "# run"
   ]
  },
  {
   "cell_type": "code",
   "execution_count": 162,
   "metadata": {
    "ExecuteTime": {
     "end_time": "2022-05-27T18:44:59.907246Z",
     "start_time": "2022-05-27T18:44:59.865079Z"
    }
   },
   "outputs": [],
   "source": [
    "def sigmoid(x):\n",
    "    return 1/(1+np.exp(-x))"
   ]
  },
  {
   "cell_type": "code",
   "execution_count": 163,
   "metadata": {
    "ExecuteTime": {
     "end_time": "2022-05-27T18:45:00.158922Z",
     "start_time": "2022-05-27T18:45:00.123150Z"
    }
   },
   "outputs": [],
   "source": [
    "N=1000\n",
    "X = np.random.normal(0,2,N)\n",
    "U = np.random.binomial(1,0.5,N)\n",
    "\n",
    "# Parameters\n",
    "beta_xw=1\n",
    "beta_xy=2\n",
    "α = 1\n",
    "δ = 3\n",
    "τ = 4\n",
    "\n",
    "# model\n",
    "p = sigmoid(X*beta_xw + α*U)\n",
    "W = np.random.binomial(1,p)\n",
    "μ = X*beta_xy + δ*U + τ*W\n",
    "Y =  np.random.normal(μ,1)"
   ]
  },
  {
   "cell_type": "markdown",
   "metadata": {},
   "source": [
    "##  Regression"
   ]
  },
  {
   "cell_type": "markdown",
   "metadata": {},
   "source": [
    "### true effect"
   ]
  },
  {
   "cell_type": "code",
   "execution_count": 164,
   "metadata": {
    "ExecuteTime": {
     "end_time": "2022-05-27T18:45:02.001696Z",
     "start_time": "2022-05-27T18:45:01.962905Z"
    }
   },
   "outputs": [
    {
     "name": "stdout",
     "output_type": "stream",
     "text": [
      "                                 OLS Regression Results                                \n",
      "=======================================================================================\n",
      "Dep. Variable:                      y   R-squared (uncentered):                   0.981\n",
      "Model:                            OLS   Adj. R-squared (uncentered):              0.981\n",
      "Method:                 Least Squares   F-statistic:                          1.691e+04\n",
      "Date:                Fri, 27 May 2022   Prob (F-statistic):                        0.00\n",
      "Time:                        11:45:01   Log-Likelihood:                         -1397.9\n",
      "No. Observations:                1000   AIC:                                      2802.\n",
      "Df Residuals:                     997   BIC:                                      2817.\n",
      "Df Model:                           3                                                  \n",
      "Covariance Type:            nonrobust                                                  \n",
      "==============================================================================\n",
      "                 coef    std err          t      P>|t|      [0.025      0.975]\n",
      "------------------------------------------------------------------------------\n",
      "beta_xy        2.0106      0.018    114.233      0.000       1.976       2.045\n",
      "delta          3.0267      0.057     52.755      0.000       2.914       3.139\n",
      "tau            3.9901      0.060     66.181      0.000       3.872       4.108\n",
      "==============================================================================\n",
      "Omnibus:                        1.273   Durbin-Watson:                   1.919\n",
      "Prob(Omnibus):                  0.529   Jarque-Bera (JB):                1.284\n",
      "Skew:                          -0.028   Prob(JB):                        0.526\n",
      "Kurtosis:                       2.834   Cond. No.                         5.08\n",
      "==============================================================================\n",
      "\n",
      "Warnings:\n",
      "[1] Standard Errors assume that the covariance matrix of the errors is correctly specified.\n"
     ]
    }
   ],
   "source": [
    "X_reg = pd.DataFrame(np.array([X,U,W]).T,columns=['beta_xy','delta','tau'])\n",
    "\n",
    "model = sm.OLS(Y,X_reg)\n",
    "results = model.fit()\n",
    "print(results.summary())"
   ]
  },
  {
   "cell_type": "markdown",
   "metadata": {},
   "source": [
    "### Biased effect "
   ]
  },
  {
   "cell_type": "code",
   "execution_count": 165,
   "metadata": {
    "ExecuteTime": {
     "end_time": "2022-05-27T18:45:03.551531Z",
     "start_time": "2022-05-27T18:45:03.515655Z"
    }
   },
   "outputs": [
    {
     "name": "stdout",
     "output_type": "stream",
     "text": [
      "                                 OLS Regression Results                                \n",
      "=======================================================================================\n",
      "Dep. Variable:                      y   R-squared (uncentered):                   0.927\n",
      "Model:                            OLS   Adj. R-squared (uncentered):              0.927\n",
      "Method:                 Least Squares   F-statistic:                              6330.\n",
      "Date:                Fri, 27 May 2022   Prob (F-statistic):                        0.00\n",
      "Time:                        11:45:03   Log-Likelihood:                         -2064.3\n",
      "No. Observations:                1000   AIC:                                      4133.\n",
      "Df Residuals:                     998   BIC:                                      4142.\n",
      "Df Model:                           2                                                  \n",
      "Covariance Type:            nonrobust                                                  \n",
      "==============================================================================\n",
      "                 coef    std err          t      P>|t|      [0.025      0.975]\n",
      "------------------------------------------------------------------------------\n",
      "beta_xy        1.7021      0.032     52.683      0.000       1.639       1.765\n",
      "tau            6.1376      0.087     70.912      0.000       5.968       6.307\n",
      "==============================================================================\n",
      "Omnibus:                       42.823   Durbin-Watson:                   1.927\n",
      "Prob(Omnibus):                  0.000   Jarque-Bera (JB):               18.756\n",
      "Skew:                          -0.051   Prob(JB):                     8.46e-05\n",
      "Kurtosis:                       2.337   Cond. No.                         2.98\n",
      "==============================================================================\n",
      "\n",
      "Warnings:\n",
      "[1] Standard Errors assume that the covariance matrix of the errors is correctly specified.\n"
     ]
    }
   ],
   "source": [
    "X_reg = pd.DataFrame(np.array([X,W]).T,columns=['beta_xy','tau'])\n",
    "\n",
    "model = sm.OLS(Y,X_reg)\n",
    "results = model.fit()\n",
    "print(results.summary())"
   ]
  },
  {
   "cell_type": "markdown",
   "metadata": {},
   "source": [
    "# Sensitivity analysis "
   ]
  },
  {
   "cell_type": "markdown",
   "metadata": {},
   "source": [
    "## identifying \"sign-flipping\"  $\\alpha, \\delta$ using MCMC sampling "
   ]
  },
  {
   "cell_type": "code",
   "execution_count": null,
   "metadata": {
    "deletable": false,
    "editable": false
   },
   "outputs": [],
   "source": [
    "data {\n",
    "    int N;   \n",
    "    int likelihood;\n",
    "    real Y[N];\n",
    "    vector[N] X;\n",
    "    int W[N];\n",
    " \n",
    "}\n",
    "\n",
    "              \n",
    "parameters {\n",
    "    real beta_xy;\n",
    "    real beta_xw;\n",
    "    real alpha;\n",
    "    real delta;\n",
    "    real<lower=0> sigma;\n",
    "   \n",
    "}\n",
    "\n",
    "\n",
    "\n",
    "model {\n",
    "\n",
    "    //priors\n",
    "    beta_xw ~ normal(0,3);\n",
    "    beta_xy ~ normal(0,3);\n",
    "    alpha ~ normal(0,3);\n",
    "    delta ~ normal(0,3);\n",
    "    \n",
    "    // likelihood\n",
    "    for(i in 1:N){\n",
    "        target += log_sum_exp(  bernoulli_logit_lpmf(W[i] | beta_xw*X[i]) + normal_lpdf(Y[i]|beta_xy*X[i],sigma),\n",
    "                                bernoulli_logit_lpmf(W[i] | beta_xw*X[i] + alpha) + normal_lpdf(Y[i]|beta_xy*X[i]+ delta,sigma)\n",
    "                          );\n",
    "    }\n",
    "    \n",
    "            \n",
    "\n",
    "}\n"
   ]
  },
  {
   "cell_type": "code",
   "execution_count": 166,
   "metadata": {
    "ExecuteTime": {
     "end_time": "2022-05-27T18:45:38.216188Z",
     "start_time": "2022-05-27T18:45:38.188775Z"
    }
   },
   "outputs": [],
   "source": [
    "model_input = {'N': N,\n",
    "              'Y':Y,\n",
    "              'X':X,\n",
    "              'W': W,\n",
    "              'likelihood':1\n",
    "              }"
   ]
  },
  {
   "cell_type": "code",
   "execution_count": 167,
   "metadata": {
    "ExecuteTime": {
     "end_time": "2022-05-27T18:45:47.111095Z",
     "start_time": "2022-05-27T18:45:38.510365Z"
    }
   },
   "outputs": [
    {
     "data": {
      "text/plain": [
       "Inference for Stan model: anon_model_21268406ae465ae4544a6058e6ca093d.\n",
       "4 chains, each with iter=2000; warmup=1000; thin=1; \n",
       "post-warmup draws per chain=1000, total post-warmup draws=4000.\n",
       "\n",
       "          mean se_mean     sd   2.5%    25%    50%    75%  97.5%  n_eff   Rhat\n",
       "beta_xy   2.32  1.0e-3   0.06    2.2   2.28   2.32   2.36   2.43   3429    1.0\n",
       "beta_xw    1.3  1.6e-3   0.09   1.13   1.23   1.29   1.36   1.49   3317    1.0\n",
       "alpha     2.32  3.9e-3   0.21   1.94   2.18   2.31   2.46   2.77   3014    1.0\n",
       "delta     5.42  1.5e-3   0.09   5.25   5.36   5.42   5.49   5.61   3787    1.0\n",
       "sigma     1.87  8.1e-4   0.05   1.77   1.83   1.86    1.9   1.97   4221    1.0\n",
       "lp__     -2135    0.04    1.6  -2139  -2136  -2135  -2134  -2133   1859    1.0\n",
       "\n",
       "Samples were drawn using NUTS at Fri May 27 11:45:47 2022.\n",
       "For each parameter, n_eff is a crude measure of effective sample size,\n",
       "and Rhat is the potential scale reduction factor on split chains (at \n",
       "convergence, Rhat=1)."
      ]
     },
     "execution_count": 167,
     "metadata": {},
     "output_type": "execute_result"
    }
   ],
   "source": [
    "fit = stan_model.sampling(data=model_input, seed=1,n_jobs=-1)\n",
    "fit"
   ]
  },
  {
   "cell_type": "code",
   "execution_count": 168,
   "metadata": {
    "ExecuteTime": {
     "end_time": "2022-05-27T18:45:51.171956Z",
     "start_time": "2022-05-27T18:45:47.113323Z"
    }
   },
   "outputs": [
    {
     "data": {
      "text/plain": [
       "Text(0.5, 1.0, '$(\\\\alpha,\\\\delta)$ density for $\\\\hat{\\\\tau}=0$')"
      ]
     },
     "execution_count": 168,
     "metadata": {},
     "output_type": "execute_result"
    },
    {
     "data": {
      "image/png": "[encoded data removed]",
      "text/plain": [
       "<Figure size 432x288 with 1 Axes>"
      ]
     },
     "metadata": {},
     "output_type": "display_data"
    }
   ],
   "source": [
    "delta_samp = fit['delta']\n",
    "alpha_samp = fit['alpha']\n",
    "\n",
    "\n",
    "ax = sns.kdeplot(data=alpha_samp, data2=delta_samp)\n",
    "ax.set_xlabel(r'$\\alpha$ (imbalance)')\n",
    "ax.set_ylabel(r'$\\delta$ (impact)')\n",
    "ax.set_title(r'$(\\alpha,\\delta)$ density for $\\hat{\\tau}=0$')"
   ]
  },
  {
   "cell_type": "markdown",
   "metadata": {},
   "source": [
    "## Accounting for hidden confounder"
   ]
  },
  {
   "cell_type": "code",
   "execution_count": null,
   "metadata": {
    "deletable": false,
    "editable": false
   },
   "outputs": [],
   "source": [
    "data {\n",
    "    int N;   \n",
    "    int likelihood;\n",
    "    real Y[N];\n",
    "    vector[N] X;\n",
    "    int W[N];\n",
    " \n",
    "}\n",
    "\n",
    "\n",
    "               \n",
    "parameters {\n",
    "    real beta_xy;\n",
    "    real beta_xw;\n",
    "    real alpha;\n",
    "    real delta;\n",
    "    real tau;\n",
    "    real<lower=0> sigma;\n",
    "   \n",
    "}\n",
    "\n",
    "\n",
    "\n",
    "\n",
    "model {\n",
    "\n",
    "    //priors\n",
    "    beta_xw ~ normal(0,3);\n",
    "    beta_xy ~ normal(0,3);\n",
    "    alpha ~ normal(0,3);\n",
    "    delta ~ normal(0,3);\n",
    "\n",
    "    for(i in 1:N){\n",
    "        target += log_sum_exp(  bernoulli_logit_lpmf(W[i] | beta_xw*X[i]) + normal_lpdf(Y[i]|beta_xy*X[i]+tau*W[i],sigma),\n",
    "                                bernoulli_logit_lpmf(W[i] | beta_xw*X[i] + alpha) + normal_lpdf(Y[i]|beta_xy*X[i]+tau*W[i]+ delta,sigma)\n",
    "                          );\n",
    "    }\n",
    "    \n",
    "        \n",
    "     \n",
    "\n",
    "}\n",
    "\n",
    "\n"
   ]
  },
  {
   "cell_type": "code",
   "execution_count": 160,
   "metadata": {
    "ExecuteTime": {
     "end_time": "2022-05-27T18:14:25.586038Z",
     "start_time": "2022-05-27T18:14:15.929314Z"
    }
   },
   "outputs": [
    {
     "data": {
      "text/plain": [
       "Inference for Stan model: anon_model_029fd74750db95e97be78bce9c21bb84.\n",
       "4 chains, each with iter=2000; warmup=1000; thin=1; \n",
       "post-warmup draws per chain=1000, total post-warmup draws=4000.\n",
       "\n",
       "          mean se_mean     sd   2.5%    25%    50%    75%  97.5%  n_eff   Rhat\n",
       "beta_xy   1.97  3.3e-4   0.02   1.93   1.96   1.97   1.99   2.02   4385    1.0\n",
       "beta_xw   0.95  9.2e-4   0.06   0.84   0.91   0.95   0.99   1.08   4369    1.0\n",
       "alpha     0.86  1.9e-3   0.13    0.6   0.77   0.85   0.95   1.12   4742    1.0\n",
       "delta     2.96  1.0e-3   0.06   2.83   2.92   2.96    3.0   3.08   3761    1.0\n",
       "tau       4.14  1.2e-3   0.07    4.0   4.09   4.14   4.19   4.28   3512    1.0\n",
       "sigma     0.96  3.9e-4   0.03   0.91   0.94   0.96   0.98   1.02   4810    1.0\n",
       "lp__     -1681    0.04   1.73  -1686  -1682  -1681  -1680  -1679   2154    1.0\n",
       "\n",
       "Samples were drawn using NUTS at Fri May 27 11:14:25 2022.\n",
       "For each parameter, n_eff is a crude measure of effective sample size,\n",
       "and Rhat is the potential scale reduction factor on split chains (at \n",
       "convergence, Rhat=1)."
      ]
     },
     "execution_count": 160,
     "metadata": {},
     "output_type": "execute_result"
    }
   ],
   "source": [
    "fit2 = stan_model2.sampling(data=model_input, seed=1,n_jobs=-1)\n",
    "fit2"
   ]
  }
 ],
 "metadata": {
  "kernelspec": {
   "display_name": "Python 3 (ipykernel)",
   "language": "python",
   "name": "python3"
  },
  "language_info": {
   "codemirror_mode": {
    "name": "ipython",
    "version": 3
   },
   "file_extension": ".py",
   "mimetype": "text/x-python",
   "name": "python",
   "nbconvert_exporter": "python",
   "pygments_lexer": "ipython3",
   "version": "3.9.7"
  },
  "toc": {
   "base_numbering": 1,
   "nav_menu": {},
   "number_sections": true,
   "sideBar": true,
   "skip_h1_title": false,
   "title_cell": "Table of Contents",
   "title_sidebar": "Contents",
   "toc_cell": false,
   "toc_position": {
    "height": "calc(100% - 180px)",
    "left": "10px",
    "top": "150px",
    "width": "179px"
   },
   "toc_section_display": true,
   "toc_window_display": true
  },
  "varInspector": {
   "cols": {
    "lenName": 16,
    "lenType": 16,
    "lenVar": 40
   },
   "kernels_config": {
    "python": {
     "delete_cmd_postfix": "",
     "delete_cmd_prefix": "del ",
     "library": "var_list.py",
     "varRefreshCmd": "print(var_dic_list())"
    },
    "r": {
     "delete_cmd_postfix": ") ",
     "delete_cmd_prefix": "rm(",
     "library": "var_list.r",
     "varRefreshCmd": "cat(var_dic_list()) "
    }
   },
   "types_to_exclude": [
    "module",
    "function",
    "builtin_function_or_method",
    "instance",
    "_Feature"
   ],
   "window_display": false
  }
 },
 "nbformat": 4,
 "nbformat_minor": 2
}
